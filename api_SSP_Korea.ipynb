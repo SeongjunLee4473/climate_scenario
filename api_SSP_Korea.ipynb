{
 "cells": [
  {
   "cell_type": "markdown",
   "metadata": {},
   "source": [
    "# SSP Scenario Download API\n",
    "\n",
    "* **Author:** Seongjun Lee\n",
    "* **Date:** June 3, 2025\n",
    "* **Description:** This Python script facilitates the download of climate element data for South Korea, categorized by Shared Socioeconomic Pathways (SSP) scenarios. It utilizes an API provided by the Korea Meteorological Administration (KMA).\n",
    "* **Key Features:**\n",
    "    * Retrieves climate data based on specified SSP scenarios.\n",
    "    * Targets a 1km grid resolution for South Korea.\n",
    "    * Allows selection of various climate elements (e.g., temperature, precipitation).\n",
    "    * Constructs download URLs dynamically based on user-defined parameters such as scenario, climate element, period, and file format.\n",
    "* **Note:** Users must replace the placeholder `authKey` with their valid API key provided by KMA. Data availability may vary depending on the specific combination of parameters selected."
   ]
  },
  {
   "cell_type": "markdown",
   "metadata": {},
   "source": [
    "## 0. Basic Settings"
   ]
  },
  {
   "cell_type": "code",
   "execution_count": 1,
   "metadata": {},
   "outputs": [],
   "source": [
    "# Import libraries\n",
    "import os\n",
    "import requests\n",
    "from tqdm import tqdm\n",
    "\n",
    "# Save directory\n",
    "save_dir = \"/Users/lsj/NAS/SSP/South_Korea\""
   ]
  },
  {
   "cell_type": "code",
   "execution_count": 2,
   "metadata": {},
   "outputs": [],
   "source": [
    "# Base API URL\n",
    "base_url = \"https://apihub-org.kma.go.kr/api/typ01/url/ssp_skorea_file_down.php\"\n",
    "\n",
    "# Auth Key\n",
    "auth_key = \"Or595fRNRNq-feX0TVTa7w\" \n",
    "\n",
    "# SSP Scenario\n",
    "ssp_scenarios = {\n",
    "    \"SSP1_2.6\": \"SSP126\",\n",
    "    \"SSP2_4.5\": \"SSP245\",\n",
    "    \"SSP3_7.0\": \"SSP370\",\n",
    "    \"SSP5_8.5\": \"SSP585\",\n",
    "}\n",
    "\n",
    "# Basic Climate Elements\n",
    "basic_elements = {\n",
    "    \"avg_temp\": \"TA\",                   # 평균기온 (Average Temperature)\n",
    "    \"max_temp\": \"TAMAX\",                # 최고기온 (Maximum Temperature)\n",
    "    \"min_temp\": \"TAMIN\",                # 최저기온 (Minimum Temperature)\n",
    "    \"precip\": \"RN\",                     # 강수량 (Precipitation) \n",
    "    \"rh\": \"RHM\",                        # 상대습도 (Relative Humidity) \n",
    "    \"avg_wind_speed\": \"WS\",             # 평균풍속 (Average Wind Speed) \n",
    "    \"sol_rad\": \"SI\"                     # 일사량 (Solar Radiation)\n",
    "    # \"sst\": \"SST\",                     # 해수면온도 (Sea Surface Temperature)              # No daily data\n",
    "    # \"max_wind_speed\": \"WSMAX\",        # 최대풍속 (Maximum Wind Speed)                     # No daily data\n",
    "    # \"salinity\": \"SALNT\",              # 표층염분 (Surface Salinity)                       # No daily data\n",
    "    # \"sea_ice_conc\": \"SICONCA\",        # 해빙면적 (Sea Ice Concentration)                  # No daily data\n",
    "    # \"sea_level_height\": \"SLR\",        # 해수면고도 (Sea Level Rise / Sea Surface Height)  # No daily data \n",
    "    # \"slp\": \"PS\",                      # 해면기압 (Sea Level Pressure)                     # No daily data\n",
    "    # \"surface_pressure\": \"PA\",         # 현지기압 (Station Pressure / Surface Pressure)    # No daily data\n",
    "    # \"snow_depth\": \"SD\"                # 적설량 (Snow Depth)                               # No daily data\n",
    "}\n",
    "\n",
    "# URL Other Parameters\n",
    "model = \"5ENSMN\"       \n",
    "grid = \"gridraw\"          # 1km grid\n",
    "time_rsltn = \"daily\"      # Daily or yearly\n",
    "frmat = \"nc\"             # NetCDF file format\n",
    "\n",
    "# 10-year period\n",
    "periods = []\n",
    "for year_start in range(2021, 2100, 10):\n",
    "    year_end = year_start + 9\n",
    "    periods.append({\"st_year\": str(year_start), \"ed_year\": str(year_end)})"
   ]
  },
  {
   "cell_type": "markdown",
   "metadata": {},
   "source": [
    "## 1. Download Data using API"
   ]
  },
  {
   "cell_type": "code",
   "execution_count": null,
   "metadata": {},
   "outputs": [
    {
     "name": "stderr",
     "output_type": "stream",
     "text": [
      "Download Progress:  12%|█▎        | 28/224 [18:02<2:16:23, 41.75s/it, file=SSP126_avg_temp_daily_2031_2040.tar.gz, size=231.48/374.14 MB]      "
     ]
    }
   ],
   "source": [
    "# Create save directory (if not exists)\n",
    "os.makedirs(save_dir, exist_ok=True)\n",
    "\n",
    "# Calculate total number of tasks\n",
    "total_tasks = len(periods) * len(ssp_scenarios) * len(basic_elements)\n",
    "\n",
    "# Progress bar\n",
    "with tqdm(total=total_tasks, desc=\"Download Progress\") as pbar:\n",
    "    for period in periods:\n",
    "        st_year_val = period[\"st_year\"]\n",
    "        ed_year_val = period[\"ed_year\"]\n",
    "        \n",
    "        for scenario_label, rpt_val in ssp_scenarios.items():\n",
    "            for element_label, elem_val in basic_elements.items():\n",
    "                params = {\n",
    "                    \"rpt\": rpt_val,\n",
    "                    \"model\": model,\n",
    "                    \"elem\": elem_val,\n",
    "                    \"grid\": grid,\n",
    "                    \"time_rsltn\": time_rsltn, \n",
    "                    \"st_year\": st_year_val,   \n",
    "                    \"ed_year\": ed_year_val,   \n",
    "                    \"frmat\": frmat,\n",
    "                    \"authKey\": auth_key,\n",
    "                }\n",
    "                \n",
    "                query_string = \"&\".join([f\"{key}={value}\" for key, value in params.items()])\n",
    "                api_url = f\"{base_url}?{query_string}\"\n",
    "\n",
    "                file_name = f\"{rpt_val}_{element_label}_daily_{st_year_val}_{ed_year_val}.tar.gz\"\n",
    "                file_path = os.path.join(save_dir, file_name)\n",
    "                \n",
    "                try:\n",
    "                    response = requests.get(api_url, stream=True)\n",
    "                    response.raise_for_status()\n",
    "                    \n",
    "                    # Check file size\n",
    "                    total_size = int(response.headers.get('content-length', 0))\n",
    "                    \n",
    "                    # Save file and show progress\n",
    "                    with open(file_path, 'wb') as f:\n",
    "                        if total_size == 0:  # If file size is unknown\n",
    "                            f.write(response.content)\n",
    "                        else:\n",
    "                            downloaded = 0\n",
    "                            for data in response.iter_content(chunk_size=4096):\n",
    "                                downloaded += len(data)\n",
    "                                f.write(data)\n",
    "                                # Show progress bar (MB unit)\n",
    "                                pbar.set_postfix({\n",
    "                                    'file': file_name,\n",
    "                                    'size': f'{round(downloaded/(1024*1024), 2)}/{round(total_size/(1024*1024), 2)} MB'\n",
    "                                })\n",
    "                    \n",
    "                except requests.exceptions.RequestException as e:\n",
    "                    tqdm.write(f\"Download failed: {file_name} - {str(e)}\")\n",
    "                \n",
    "                pbar.update(1)"
   ]
  }
 ],
 "metadata": {
  "kernelspec": {
   "display_name": "lsj",
   "language": "python",
   "name": "python3"
  },
  "language_info": {
   "codemirror_mode": {
    "name": "ipython",
    "version": 3
   },
   "file_extension": ".py",
   "mimetype": "text/x-python",
   "name": "python",
   "nbconvert_exporter": "python",
   "pygments_lexer": "ipython3",
   "version": "undefined.undefined.undefined"
  }
 },
 "nbformat": 4,
 "nbformat_minor": 2
}
